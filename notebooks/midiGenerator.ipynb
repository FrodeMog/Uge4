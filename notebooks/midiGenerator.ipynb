{
 "cells": [
  {
   "cell_type": "markdown",
   "metadata": {},
   "source": [
    "---\n",
    "## Simple generator example reading midi files\n",
    "### Monday: 26-02-2024\n",
    "\n",
    "* Read the MIDI file normally\n",
    "    * We are given a list with all midi elements\n",
    "\n",
    "* Read the MIDI file using the generator \n",
    "    * We are \"`yield`ed\" each element individually\n",
    "    * We can get elements with `next()` or with a `loop`\n",
    "\n",
    "---"
   ]
  },
  {
   "cell_type": "code",
   "execution_count": 6,
   "metadata": {},
   "outputs": [
    {
     "name": "stdout",
     "output_type": "stream",
     "text": [
      "[MetaMessage('time_signature', numerator=4, denominator=4, clocks_per_click=24, notated_32nd_notes_per_beat=8, time=0), MetaMessage('set_tempo', tempo=500000, time=0), MetaMessage('track_name', name='Tempo Track', time=0), MetaMessage('track_name', name='New Instrument', time=0), Message('note_on', channel=0, note=92, velocity=25, time=0.7265625), Message('control_change', channel=0, control=64, value=29, time=0.09895833333333333), Message('control_change', channel=0, control=64, value=101, time=0.013020833333333332), Message('control_change', channel=0, control=64, value=124, time=0.015625), Message('control_change', channel=0, control=64, value=127, time=0.015625), Message('note_on', channel=0, note=88, velocity=18, time=0.3489583333333333), Message('note_off', channel=0, note=92, velocity=0, time=0.24739583333333331), Message('note_on', channel=0, note=83, velocity=33, time=0.26041666666666663), Message('note_off', channel=0, note=88, velocity=0, time=0.23958333333333331), Message('note_on', channel=0, note=78, velocity=41, time=0.26041666666666663), Message('note_off', channel=0, note=83, velocity=0, time=0.24739583333333331), Message('note_on', channel=0, note=73, velocity=27, time=0.25260416666666663), Message('note_off', channel=0, note=78, velocity=0, time=0.24739583333333331), Message('note_on', channel=0, note=71, velocity=39, time=0.0026041666666666665), Message('note_on', channel=0, note=68, velocity=25, time=0.25), Message('note_off', channel=0, note=73, velocity=0, time=0.24739583333333331), Message('note_on', channel=0, note=66, velocity=25, time=0.0026041666666666665), Message('note_off', channel=0, note=71, velocity=0, time=0.24739583333333331), Message('note_on', channel=0, note=64, velocity=18, time=0.0026041666666666665), Message('note_off', channel=0, note=68, velocity=0, time=0.24739583333333331), Message('note_on', channel=0, note=61, velocity=17, time=0.0026041666666666665), Message('note_off', channel=0, note=66, velocity=0, time=0.24739583333333331), Message('control_change', channel=0, control=64, value=24, time=0.06510416666666666), Message('control_change', channel=0, control=64, value=0, time=0.015625), Message('control_change', channel=0, control=64, value=16, time=0.0078125), Message('control_change', channel=0, control=64, value=89, time=0.015625), Message('control_change', channel=0, control=64, value=125, time=0.015625), Message('control_change', channel=0, control=64, value=123, time=0.013020833333333332), Message('control_change', channel=0, control=64, value=120, time=0.015625), Message('control_change', channel=0, control=64, value=125, time=0.015625), Message('control_change', channel=0, control=64, value=127, time=0.015625), Message('note_off', channel=0, note=64, velocity=0, time=0.0703125), Message('note_off', channel=0, note=61, velocity=0, time=0.25), Message('note_on', channel=0, note=64, velocity=32, time=0.018229166666666664), Message('note_off', channel=0, note=64, velocity=0, time=0.24739583333333331), Message('note_on', channel=0, note=66, velocity=36, time=0.0026041666666666665), Message('control_change', channel=0, control=64, value=92, time=0.0546875), Message('control_change', channel=0, control=64, value=0, time=0.015625), Message('control_change', channel=0, control=64, value=82, time=0.16666666666666666), Message('note_off', channel=0, note=66, velocity=0, time=0.010416666666666666), Message('control_change', channel=0, control=64, value=112, time=0.0026041666666666665), Message('note_on', channel=0, note=68, velocity=39, time=0), Message('control_change', channel=0, control=64, value=127, time=0.015625), Message('note_off', channel=0, note=68, velocity=0, time=0.23177083333333331), Message('note_on', channel=0, note=66, velocity=35, time=0.0026041666666666665), Message('note_on', channel=0, note=45, velocity=17, time=0), Message('note_on', channel=0, note=52, velocity=28, time=0), Message('note_on', channel=0, note=49, velocity=20, time=0.25), Message('note_on', channel=0, note=57, velocity=11, time=0), Message('note_off', channel=0, note=66, velocity=0, time=0.24739583333333331), Message('note_off', channel=0, note=45, velocity=0, time=0), Message('note_off', channel=0, note=52, velocity=0, time=0), Message('note_off', channel=0, note=49, velocity=0, time=0), Message('note_off', channel=0, note=57, velocity=0, time=0), Message('note_on', channel=0, note=45, velocity=27, time=0.5026041666666666), Message('note_on', channel=0, note=52, velocity=26, time=0), Message('note_on', channel=0, note=66, velocity=36, time=0), Message('note_off', channel=0, note=66, velocity=0, time=0.24739583333333331), Message('note_on', channel=0, note=49, velocity=19, time=0.0026041666666666665), Message('note_on', channel=0, note=57, velocity=15, time=0), Message('note_on', channel=0, note=64, velocity=32, time=0), Message('note_on', channel=0, note=68, velocity=39, time=0), Message('control_change', channel=0, control=64, value=122, time=0.04427083333333333), Message('control_change', channel=0, control=64, value=50, time=0.015625), Message('control_change', channel=0, control=64, value=0, time=0.015625), Message('note_off', channel=0, note=45, velocity=0, time=0.171875), Message('note_off', channel=0, note=52, velocity=0, time=0), Message('note_off', channel=0, note=49, velocity=0, time=0), Message('note_off', channel=0, note=57, velocity=0, time=0), Message('note_off', channel=0, note=64, velocity=0, time=0), Message('note_off', channel=0, note=68, velocity=0, time=0), Message('note_on', channel=0, note=66, velocity=35, time=0.0026041666666666665), Message('note_on', channel=0, note=59, velocity=19, time=0.25), Message('note_on', channel=0, note=52, velocity=42, time=0), Message('note_off', channel=0, note=66, velocity=0, time=0.24739583333333331), Message('note_off', channel=0, note=52, velocity=0, time=0), Message('note_on', channel=0, note=64, velocity=32, time=0.0026041666666666665), Message('note_on', channel=0, note=47, velocity=19, time=0), Message('note_off', channel=0, note=64, velocity=0, time=0.24739583333333331), Message('note_on', channel=0, note=66, velocity=36, time=0.0026041666666666665), Message('note_on', channel=0, note=52, velocity=34, time=0), Message('note_off', channel=0, note=59, velocity=0, time=0.24739583333333331), Message('note_off', channel=0, note=47, velocity=0, time=0), Message('note_off', channel=0, note=66, velocity=0, time=0), Message('note_off', channel=0, note=52, velocity=0, time=0), Message('note_on', channel=0, note=68, velocity=39, time=0.0026041666666666665), Message('note_off', channel=0, note=68, velocity=0, time=0.24739583333333331), Message('note_on', channel=0, note=66, velocity=36, time=0.25260416666666663), Message('note_off', channel=0, note=66, velocity=0, time=0.24739583333333331), Message('note_on', channel=0, note=64, velocity=32, time=0.0026041666666666665), Message('note_on', channel=0, note=68, velocity=39, time=0), Message('note_on', channel=0, note=52, velocity=28, time=0), Message('note_on', channel=0, note=45, velocity=17, time=0), Message('note_on', channel=0, note=52, velocity=34, time=0), Message('note_off', channel=0, note=64, velocity=0, time=0.24739583333333331), Message('note_off', channel=0, note=68, velocity=0, time=0), Message('note_off', channel=0, note=52, velocity=0, time=0), Message('note_on', channel=0, note=66, velocity=35, time=0.0026041666666666665), Message('note_on', channel=0, note=57, velocity=11, time=0), Message('note_on', channel=0, note=49, velocity=20, time=0), Message('note_off', channel=0, note=52, velocity=0, time=0.24739583333333331), Message('note_off', channel=0, note=45, velocity=0, time=0), Message('note_off', channel=0, note=57, velocity=0, time=0), Message('note_off', channel=0, note=49, velocity=0, time=0), Message('note_off', channel=0, note=66, velocity=0, time=0.25), Message('note_on', channel=0, note=64, velocity=32, time=0.25260416666666663), Message('note_on', channel=0, note=45, velocity=27, time=0), Message('note_on', channel=0, note=66, velocity=35, time=0.5), Message('note_off', channel=0, note=64, velocity=0, time=0.23958333333333331), Message('note_off', channel=0, note=45, velocity=0, time=0.0078125), Message('note_on', channel=0, note=64, velocity=32, time=0.24739583333333331), Message('note_off', channel=0, note=66, velocity=0, time=0.0026041666666666665), Message('note_on', channel=0, note=47, velocity=19, time=0.005208333333333333), Message('note_off', channel=0, note=47, velocity=0, time=0.49479166666666663), Message('note_off', channel=0, note=64, velocity=0, time=1.0052083333333333), MetaMessage('end_of_track', time=8.583333333333332)]\n",
      "MetaMessage('time_signature', numerator=4, denominator=4, clocks_per_click=24, notated_32nd_notes_per_beat=8, time=0) MetaMessage('set_tempo', tempo=500000, time=0) MetaMessage('track_name', name='Tempo Track', time=0) MetaMessage('track_name', name='New Instrument', time=0) note_on channel=0 note=92 velocity=25 time=0.7265625 control_change channel=0 control=64 value=29 time=0.09895833333333333 control_change channel=0 control=64 value=101 time=0.013020833333333332 control_change channel=0 control=64 value=124 time=0.015625 control_change channel=0 control=64 value=127 time=0.015625 note_on channel=0 note=88 velocity=18 time=0.3489583333333333 note_off channel=0 note=92 velocity=0 time=0.24739583333333331 note_on channel=0 note=83 velocity=33 time=0.26041666666666663 note_off channel=0 note=88 velocity=0 time=0.23958333333333331 note_on channel=0 note=78 velocity=41 time=0.26041666666666663 note_off channel=0 note=83 velocity=0 time=0.24739583333333331 note_on channel=0 note=73 velocity=27 time=0.25260416666666663 note_off channel=0 note=78 velocity=0 time=0.24739583333333331 note_on channel=0 note=71 velocity=39 time=0.0026041666666666665 note_on channel=0 note=68 velocity=25 time=0.25 note_off channel=0 note=73 velocity=0 time=0.24739583333333331 note_on channel=0 note=66 velocity=25 time=0.0026041666666666665 note_off channel=0 note=71 velocity=0 time=0.24739583333333331 note_on channel=0 note=64 velocity=18 time=0.0026041666666666665 note_off channel=0 note=68 velocity=0 time=0.24739583333333331 note_on channel=0 note=61 velocity=17 time=0.0026041666666666665 note_off channel=0 note=66 velocity=0 time=0.24739583333333331 control_change channel=0 control=64 value=24 time=0.06510416666666666 control_change channel=0 control=64 value=0 time=0.015625 control_change channel=0 control=64 value=16 time=0.0078125 control_change channel=0 control=64 value=89 time=0.015625 control_change channel=0 control=64 value=125 time=0.015625 control_change channel=0 control=64 value=123 time=0.013020833333333332 control_change channel=0 control=64 value=120 time=0.015625 control_change channel=0 control=64 value=125 time=0.015625 control_change channel=0 control=64 value=127 time=0.015625 note_off channel=0 note=64 velocity=0 time=0.0703125 note_off channel=0 note=61 velocity=0 time=0.25 note_on channel=0 note=64 velocity=32 time=0.018229166666666664 note_off channel=0 note=64 velocity=0 time=0.24739583333333331 note_on channel=0 note=66 velocity=36 time=0.0026041666666666665 control_change channel=0 control=64 value=92 time=0.0546875 control_change channel=0 control=64 value=0 time=0.015625 control_change channel=0 control=64 value=82 time=0.16666666666666666 note_off channel=0 note=66 velocity=0 time=0.010416666666666666 control_change channel=0 control=64 value=112 time=0.0026041666666666665 note_on channel=0 note=68 velocity=39 time=0 control_change channel=0 control=64 value=127 time=0.015625 note_off channel=0 note=68 velocity=0 time=0.23177083333333331 note_on channel=0 note=66 velocity=35 time=0.0026041666666666665 note_on channel=0 note=45 velocity=17 time=0 note_on channel=0 note=52 velocity=28 time=0 note_on channel=0 note=49 velocity=20 time=0.25 note_on channel=0 note=57 velocity=11 time=0 note_off channel=0 note=66 velocity=0 time=0.24739583333333331 note_off channel=0 note=45 velocity=0 time=0 note_off channel=0 note=52 velocity=0 time=0 note_off channel=0 note=49 velocity=0 time=0 note_off channel=0 note=57 velocity=0 time=0 note_on channel=0 note=45 velocity=27 time=0.5026041666666666 note_on channel=0 note=52 velocity=26 time=0 note_on channel=0 note=66 velocity=36 time=0 note_off channel=0 note=66 velocity=0 time=0.24739583333333331 note_on channel=0 note=49 velocity=19 time=0.0026041666666666665 note_on channel=0 note=57 velocity=15 time=0 note_on channel=0 note=64 velocity=32 time=0 note_on channel=0 note=68 velocity=39 time=0 control_change channel=0 control=64 value=122 time=0.04427083333333333 control_change channel=0 control=64 value=50 time=0.015625 control_change channel=0 control=64 value=0 time=0.015625 note_off channel=0 note=45 velocity=0 time=0.171875 note_off channel=0 note=52 velocity=0 time=0 note_off channel=0 note=49 velocity=0 time=0 note_off channel=0 note=57 velocity=0 time=0 note_off channel=0 note=64 velocity=0 time=0 note_off channel=0 note=68 velocity=0 time=0 note_on channel=0 note=66 velocity=35 time=0.0026041666666666665 note_on channel=0 note=59 velocity=19 time=0.25 note_on channel=0 note=52 velocity=42 time=0 note_off channel=0 note=66 velocity=0 time=0.24739583333333331 note_off channel=0 note=52 velocity=0 time=0 note_on channel=0 note=64 velocity=32 time=0.0026041666666666665 note_on channel=0 note=47 velocity=19 time=0 note_off channel=0 note=64 velocity=0 time=0.24739583333333331 note_on channel=0 note=66 velocity=36 time=0.0026041666666666665 note_on channel=0 note=52 velocity=34 time=0 note_off channel=0 note=59 velocity=0 time=0.24739583333333331 note_off channel=0 note=47 velocity=0 time=0 note_off channel=0 note=66 velocity=0 time=0 note_off channel=0 note=52 velocity=0 time=0 note_on channel=0 note=68 velocity=39 time=0.0026041666666666665 note_off channel=0 note=68 velocity=0 time=0.24739583333333331 note_on channel=0 note=66 velocity=36 time=0.25260416666666663 note_off channel=0 note=66 velocity=0 time=0.24739583333333331 note_on channel=0 note=64 velocity=32 time=0.0026041666666666665 note_on channel=0 note=68 velocity=39 time=0 note_on channel=0 note=52 velocity=28 time=0 note_on channel=0 note=45 velocity=17 time=0 note_on channel=0 note=52 velocity=34 time=0 note_off channel=0 note=64 velocity=0 time=0.24739583333333331 note_off channel=0 note=68 velocity=0 time=0 note_off channel=0 note=52 velocity=0 time=0 note_on channel=0 note=66 velocity=35 time=0.0026041666666666665 note_on channel=0 note=57 velocity=11 time=0 note_on channel=0 note=49 velocity=20 time=0 note_off channel=0 note=52 velocity=0 time=0.24739583333333331 note_off channel=0 note=45 velocity=0 time=0 note_off channel=0 note=57 velocity=0 time=0 note_off channel=0 note=49 velocity=0 time=0 note_off channel=0 note=66 velocity=0 time=0.25 note_on channel=0 note=64 velocity=32 time=0.25260416666666663 note_on channel=0 note=45 velocity=27 time=0 note_on channel=0 note=66 velocity=35 time=0.5 note_off channel=0 note=64 velocity=0 time=0.23958333333333331 note_off channel=0 note=45 velocity=0 time=0.0078125 note_on channel=0 note=64 velocity=32 time=0.24739583333333331 note_off channel=0 note=66 velocity=0 time=0.0026041666666666665 note_on channel=0 note=47 velocity=19 time=0.005208333333333333 note_off channel=0 note=47 velocity=0 time=0.49479166666666663 note_off channel=0 note=64 velocity=0 time=1.0052083333333333 MetaMessage('end_of_track', time=8.583333333333332) "
     ]
    }
   ],
   "source": [
    "#To help us import from outside folder\n",
    "import os\n",
    "import sys\n",
    "sys.path.append(os.path.abspath(os.path.join('..')))\n",
    "from midiHandler import MidiHandler\n",
    "\n",
    "midi_file_path = \"../data/midi/test.mid\"\n",
    "\n",
    "midi = MidiHandler()\n",
    "\n",
    "# Read the MIDI file normally\n",
    "data = midi.readMidi(midi_file_path)\n",
    "print(data)\n",
    "\n",
    "# Read the MIDI file using the generator \n",
    "data = midi.readMidiGenerator(midi_file_path)\n",
    "for d in data:\n",
    "    print(d, end=' ')\n"
   ]
  },
  {
   "cell_type": "markdown",
   "metadata": {},
   "source": [
    "---\n",
    "## Lets get some random Midi sections and plot a few\n",
    "### Friday: 01-03-2024\n",
    "\n",
    "* Read the MIDI file normally\n",
    "   * Handle 1 by 1 slowly\n",
    "\n",
    "* Read the MIDI file using generators and threads\n",
    "    * Use all cpu cores with yield generators\n",
    "    \n",
    "* Compare the differences\n",
    "---"
   ]
  },
  {
   "cell_type": "code",
   "execution_count": null,
   "metadata": {},
   "outputs": [],
   "source": []
  }
 ],
 "metadata": {
  "kernelspec": {
   "display_name": ".venv",
   "language": "python",
   "name": "python3"
  },
  "language_info": {
   "codemirror_mode": {
    "name": "ipython",
    "version": 3
   },
   "file_extension": ".py",
   "mimetype": "text/x-python",
   "name": "python",
   "nbconvert_exporter": "python",
   "pygments_lexer": "ipython3",
   "version": "3.10.9"
  }
 },
 "nbformat": 4,
 "nbformat_minor": 2
}
