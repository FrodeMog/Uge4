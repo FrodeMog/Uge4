{
 "cells": [
  {
   "cell_type": "markdown",
   "metadata": {},
   "source": [
    "---\n",
    "## Simple generator example reading midi files\n",
    "### Monday: 26-02-2024\n",
    "\n",
    "* Read the MIDI file normally\n",
    "    * We are given a list with all midi elements\n",
    "\n",
    "* Read the MIDI file using the generator \n",
    "    * We are \"`yield`ed\" each element individually\n",
    "    * We can get elements with `next()` or with a `loop`\n",
    "\n",
    "---"
   ]
  },
  {
   "cell_type": "code",
   "execution_count": 7,
   "metadata": {},
   "outputs": [
    {
     "name": "stdout",
     "output_type": "stream",
     "text": [
      "[MetaMessage('time_signature', numerator=4, denominator=4, clocks_per_click=24, notated_32nd_notes_per_beat=8, time=0), MetaMessage('set_tempo', tempo=500000, time=0), MetaMessage('track_name', name='Tempo Track', time=0), MetaMessage('track_name', name='New Instrument', time=0), Message('note_on', channel=0, note=92, velocity=25, time=0.7265625)]\n",
      "MetaMessage('time_signature', numerator=4, denominator=4, clocks_per_click=24, notated_32nd_notes_per_beat=8, time=0)\n",
      "MetaMessage('set_tempo', tempo=500000, time=0)\n",
      "MetaMessage('track_name', name='Tempo Track', time=0)\n",
      "MetaMessage('track_name', name='New Instrument', time=0)\n",
      "note_on channel=0 note=92 velocity=25 time=0.7265625\n",
      "control_change channel=0 control=64 value=29 time=0.09895833333333333\n"
     ]
    }
   ],
   "source": [
    "import os\n",
    "import sys\n",
    "sys.path.append(os.path.abspath(os.path.join('..')))\n",
    "from handlers.midiHandler import MidiHandler\n",
    "from utils.Utils import Utils as utils\n",
    "\n",
    "midi_file_path = \"../data/midi/test.mid\"\n",
    "midi = MidiHandler()\n",
    "\n",
    "# Read the MIDI file normally\n",
    "data = midi.readMidi(midi_file_path)\n",
    "print(data[:5]) # Print 5 to save notebook space\n",
    "\n",
    "# Read the MIDI file using the generator \n",
    "data = midi.readMidiGenerator(midi_file_path)\n",
    "count = 0\n",
    "for d in data:\n",
    "    count += 1\n",
    "    print(d)\n",
    "    if count > 5: # Print 5 to save notebook space\n",
    "        break\n"
   ]
  },
  {
   "cell_type": "markdown",
   "metadata": {},
   "source": [
    "---\n",
    "## Lets get some random Midi sections\n",
    "### Friday: 01-03-2024\n",
    "\n",
    "* Read the MIDI file and retrieve the notes we want\n",
    "   * Handle 1 file with and without generators\n",
    "\n",
    "* Read the MIDI file using generators and threads\n",
    "    * Use all cpu cores with yield generators\n",
    "    \n",
    "* Compare the differences between using generators and not\n",
    "---"
   ]
  },
  {
   "cell_type": "code",
   "execution_count": 8,
   "metadata": {},
   "outputs": [
    {
     "name": "stdout",
     "output_type": "stream",
     "text": [
      "\n",
      "--Using normal function\n",
      "Total notes retrieved:  5\n",
      "Memory used: 0.00390625 MB\n",
      "Time taken: 0.0009999275207519531 seconds\n",
      "\n",
      "\n",
      "--Using generator function\n",
      "Total notes retrieved using generator:  5\n",
      "Memory used: 0.0 MB\n",
      "Time taken: 0.0010039806365966797 seconds\n",
      "\n",
      "Total MIDI files:  2622\n",
      "\n",
      "--Using threaded function\n",
      "Number of workers:  20\n",
      "Total notes retrieved using threaded:  1510\n",
      "Memory used: 54.359375 MB\n",
      "Time taken: 292.4176013469696 seconds\n",
      "\n",
      "\n",
      "--Using threaded generator function\n",
      "Number of workers:  20\n",
      "Total notes retrieved using threaded generator:  1510\n",
      "Memory used: -9.10546875 MB\n",
      "Time taken: 184.87527418136597 seconds\n",
      "\n"
     ]
    }
   ],
   "source": [
    "from concurrent.futures import ThreadPoolExecutor\n",
    "\n",
    "directory = \"../data/midi/pop/\"\n",
    "file_paths = [os.path.join(directory, file) for file in os.listdir(directory)]\n",
    "\n",
    "def getNotes(midi_file_path):\n",
    "    midi = MidiHandler()\n",
    "    notes = midi.getNotes(midi_file_path)\n",
    "    #print(notes)\n",
    "    print(\"Total notes retrieved: \", len(notes))\n",
    "\n",
    "def getNotesGenerator(midi_file_path):\n",
    "    midi = MidiHandler()\n",
    "    notes = midi.getNotesGenerator(midi_file_path)\n",
    "    count = 0\n",
    "    for n in notes:\n",
    "        #print(n)\n",
    "        count += 1\n",
    "    print(\"Total notes retrieved using generator: \", count)\n",
    "\n",
    "def getNotesThreaded(directory):\n",
    "    file_paths = [os.path.join(directory, file) for file in os.listdir(directory)]\n",
    "    num_workers = min(os.cpu_count(), len(file_paths))\n",
    "    print(\"Number of workers: \", num_workers)\n",
    "    with ThreadPoolExecutor(max_workers=num_workers) as executor:\n",
    "        futures = [executor.submit(midi.getNotes, file_path) for file_path in file_paths]\n",
    "        count = 0\n",
    "        for future in futures:\n",
    "            if future.result() is not None:\n",
    "                notes = future.result()\n",
    "                #print(notes)\n",
    "                count += len(notes)\n",
    "    print(\"Total notes retrieved using threaded: \", count)\n",
    "\n",
    "def getNotesThreadedGenerator(directory):\n",
    "    file_paths = [os.path.join(directory, file) for file in os.listdir(directory)]\n",
    "    num_workers = min(os.cpu_count(), len(file_paths)) \n",
    "    print(\"Number of workers: \", num_workers)\n",
    "    with ThreadPoolExecutor(max_workers=num_workers) as executor:\n",
    "        futures = [executor.submit(midi.getNotesGenerator, file_path) for file_path in file_paths]\n",
    "        count = 0\n",
    "        for future in futures:\n",
    "            notes = future.result()\n",
    "            if notes is not None:\n",
    "                for n in notes:\n",
    "                    #print(n)\n",
    "                    count += 1\n",
    "    print(\"Total notes retrieved using threaded generator: \", count)\n",
    "\n",
    "print(\"\\n\"+\"--Using normal function\")\n",
    "utils.measure_function(getNotes, midi_file_path)\n",
    "\n",
    "print(\"\\n\"+\"--Using generator function\")\n",
    "utils.measure_function(getNotesGenerator, midi_file_path)\n",
    "\n",
    "print(\"Total MIDI files: \", len(file_paths))\n",
    "\n",
    "print(\"\\n\"+\"--Using threaded function\")\n",
    "utils.measure_function(getNotesThreaded, directory)\n",
    "\n",
    "print(\"\\n\"+\"--Using threaded generator function\")\n",
    "utils.measure_function(getNotesThreadedGenerator, directory)\n"
   ]
  }
 ],
 "metadata": {
  "kernelspec": {
   "display_name": ".venv",
   "language": "python",
   "name": "python3"
  },
  "language_info": {
   "codemirror_mode": {
    "name": "ipython",
    "version": 3
   },
   "file_extension": ".py",
   "mimetype": "text/x-python",
   "name": "python",
   "nbconvert_exporter": "python",
   "pygments_lexer": "ipython3",
   "version": "3.10.9"
  }
 },
 "nbformat": 4,
 "nbformat_minor": 2
}
