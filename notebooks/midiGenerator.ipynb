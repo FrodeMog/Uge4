{
 "cells": [
  {
   "cell_type": "markdown",
   "metadata": {},
   "source": [
    "---\n",
    "## Simple generator example reading midi files\n",
    "### Monday: 26-02-2024\n",
    "\n",
    "* Read the MIDI file normally\n",
    "    * We are given a list with all midi elements\n",
    "\n",
    "* Read the MIDI file using the generator \n",
    "    * We are \"`yield`ed\" each element individually\n",
    "    * We can get elements with `next()` or with a `loop`\n",
    "\n",
    "---"
   ]
  },
  {
   "cell_type": "code",
   "execution_count": 4,
   "metadata": {},
   "outputs": [
    {
     "name": "stdout",
     "output_type": "stream",
     "text": [
      "MetaMessage('smpte_offset', frame_rate=30, hours=0, minutes=0, seconds=0, frames=0, sub_frames=0, time=0)\n"
     ]
    }
   ],
   "source": [
    "#To help us import from outside folder\n",
    "import os\n",
    "import sys\n",
    "sys.path.append(os.path.abspath(os.path.join('..')))\n",
    "from midiHandler import MidiHandler\n",
    "\n",
    "midi_file_path = \"../data/midi/test.mid\"\n",
    "\n",
    "midi = MidiHandler()\n",
    "\n",
    "# Read the MIDI file normally\n",
    "data = midi.readMidi(midi_file_path)\n",
    "print(data)\n",
    "\n",
    "# Read the MIDI file using the generator \n",
    "data = midi.readMidiGenerator(midi_file_path)\n",
    "for d in data:\n",
    "    print(d)\n"
   ]
  },
  {
   "cell_type": "code",
   "execution_count": null,
   "metadata": {},
   "outputs": [],
   "source": []
  }
 ],
 "metadata": {
  "kernelspec": {
   "display_name": ".venv",
   "language": "python",
   "name": "python3"
  },
  "language_info": {
   "codemirror_mode": {
    "name": "ipython",
    "version": 3
   },
   "file_extension": ".py",
   "mimetype": "text/x-python",
   "name": "python",
   "nbconvert_exporter": "python",
   "pygments_lexer": "ipython3",
   "version": "3.10.9"
  }
 },
 "nbformat": 4,
 "nbformat_minor": 2
}
