{
 "cells": [
  {
   "cell_type": "markdown",
   "metadata": {},
   "source": [
    "---\n",
    "## Create big data with faker and use generator\n",
    "### Tuesday: 27-02-2024\n",
    "\n",
    "* Read the data normally\n",
    "\n",
    "* Read the data using generator \n",
    "\n",
    "* Compare time and memory usage\n",
    "\n",
    "---"
   ]
  },
  {
   "cell_type": "code",
   "execution_count": 10,
   "metadata": {},
   "outputs": [
    {
     "name": "stdout",
     "output_type": "stream",
     "text": [
      ">>>Measuring fakerHandler_read_csv__\n",
      "Name,Address,Email\n",
      "\n",
      "James Strong,\"7746 Roberto Key, Hallside, DC 88675\",bobby66@example.org\n",
      "\n",
      "Memory used: -0.01171875 MB\n",
      "Time taken: 1.515625 seconds\n",
      "\n",
      ">>>Measuring fakerHandler_read_csv_generator\n",
      "Name,Address,Email\n",
      "\n",
      "James Strong,\"7746 Roberto Key, Hallside, DC 88675\",bobby66@example.org\n",
      "\n",
      "Memory used: 0.0 MB\n",
      "Time taken: 0.0 seconds\n",
      "\n"
     ]
    }
   ],
   "source": [
    "import os\n",
    "import sys\n",
    "sys.path.append(os.path.abspath(os.path.join('..')))\n",
    "import time\n",
    "import memory_profiler as mem_profile\n",
    "import random\n",
    "import pandas as pd\n",
    "from faker import Faker\n",
    "from fakerHandler import FakerHandler\n",
    "\n",
    "fake = Faker()\n",
    "dataSize = 10000000\n",
    "fake_user_filepath = \"../data/csv/fake_users_\"+str(dataSize)+\".csv\"\n",
    "\n",
    "def createFakeData(filepath, size):\n",
    "    if not os.path.exists(filepath):\n",
    "        data = {\n",
    "            'Name': [fake.name() for _ in range(size)],\n",
    "            'Address': [fake.address().replace('\\n', ', ') for _ in range(dataSize)],\n",
    "            'Email': [fake.email() for _ in range(size)]\n",
    "        }\n",
    "        df = pd.DataFrame(data)\n",
    "        df.to_csv(filepath, index=False)\n",
    "\n",
    "# Measure the time and memory usage of a function\n",
    "def measure_function(func, *args, **kwargs):\n",
    "    t1 = time.process_time()\n",
    "    mem_before = mem_profile.memory_usage()\n",
    "\n",
    "    # Function to measure\n",
    "    func(*args, **kwargs)\n",
    "\n",
    "    mem_after = mem_profile.memory_usage()\n",
    "    t2 = time.process_time()\n",
    "    print(\"Memory used: \" + str(mem_after[0] - mem_before[0]) + \" MB\")\n",
    "    print(\"Time taken: \" + str(t2-t1) + \" seconds\"+\"\\n\")\n",
    "\n",
    "def fakerHandler_read_csv():\n",
    "    fH = FakerHandler()\n",
    "    lines = fH.readCSV(fake_user_filepath)\n",
    "    print(lines[0])\n",
    "    print(lines[1])\n",
    "\n",
    "def fakerHandler_read_csv_generator():\n",
    "    fH = FakerHandler()\n",
    "    line = fH.readCSVGenerator(fake_user_filepath)\n",
    "    print(next(line))\n",
    "    print(next(line))\n",
    "\n",
    "createFakeData(fake_user_filepath, dataSize)\n",
    "# Measure the functions\n",
    "print(\">>>Measuring fakerHandler_read_csv__\")\n",
    "measure_function(fakerHandler_read_csv)\n",
    "print(\">>>Measuring fakerHandler_read_csv_generator\")\n",
    "measure_function(fakerHandler_read_csv_generator)\n"
   ]
  }
 ],
 "metadata": {
  "kernelspec": {
   "display_name": ".venv",
   "language": "python",
   "name": "python3"
  },
  "language_info": {
   "codemirror_mode": {
    "name": "ipython",
    "version": 3
   },
   "file_extension": ".py",
   "mimetype": "text/x-python",
   "name": "python",
   "nbconvert_exporter": "python",
   "pygments_lexer": "ipython3",
   "version": "3.10.9"
  }
 },
 "nbformat": 4,
 "nbformat_minor": 2
}
