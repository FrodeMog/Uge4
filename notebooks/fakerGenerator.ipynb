{
 "cells": [
  {
   "cell_type": "markdown",
   "metadata": {},
   "source": [
    "---\n",
    "## Create big data with faker and use generator\n",
    "### Tuesday: 27-02-2024\n",
    "\n",
    "* Read the data normally\n",
    "\n",
    "* Read the data using generator \n",
    "\n",
    "* Compare time and memory usage\n",
    "\n",
    "---"
   ]
  },
  {
   "cell_type": "code",
   "execution_count": 1,
   "metadata": {},
   "outputs": [
    {
     "name": "stdout",
     "output_type": "stream",
     "text": [
      ">>>Measuring fakerHandler_read_csv__\n",
      "Name,Address,Email\n",
      "\n",
      "David Boone,\"Unit 2954 Box 1192, DPO AP 13965\",allenandrea@example.org\n",
      "\n",
      "Memory used: 2.57421875 MB\n",
      "Time taken: 0.421875 seconds\n",
      "\n",
      ">>>Measuring fakerHandler_read_csv_generator\n",
      "Name,Address,Email\n",
      "\n",
      "David Boone,\"Unit 2954 Box 1192, DPO AP 13965\",allenandrea@example.org\n",
      "\n",
      "Memory used: 0.00390625 MB\n",
      "Time taken: 0.0 seconds\n",
      "\n"
     ]
    }
   ],
   "source": [
    "import os\n",
    "import sys\n",
    "sys.path.append(os.path.abspath(os.path.join('..')))\n",
    "import pandas as pd\n",
    "from faker import Faker\n",
    "from fakerHandler import FakerHandler\n",
    "from Utils import Utils as utils\n",
    "\n",
    "fake = Faker()\n",
    "dataSize = 1000000\n",
    "fake_user_filepath = \"../data/csv/fake_users_\"+str(dataSize)+\".csv\"\n",
    "\n",
    "def createFakeData(filepath, size):\n",
    "    if not os.path.exists(filepath):\n",
    "        data = {\n",
    "            'Name': [fake.name() for _ in range(size)],\n",
    "            'Address': [fake.address().replace('\\n', ', ') for _ in range(dataSize)],\n",
    "            'Email': [fake.email() for _ in range(size)]\n",
    "        }\n",
    "        df = pd.DataFrame(data)\n",
    "        df.to_csv(filepath, index=False)\n",
    "\n",
    "def fakerHandler_read_csv():\n",
    "    fH = FakerHandler()\n",
    "    lines = fH.readCSV(fake_user_filepath)\n",
    "    print(lines[0])\n",
    "    print(lines[1])\n",
    "\n",
    "def fakerHandler_read_csv_generator():\n",
    "    fH = FakerHandler()\n",
    "    line = fH.readCSVGenerator(fake_user_filepath)\n",
    "    print(next(line))\n",
    "    print(next(line))\n",
    "\n",
    "createFakeData(fake_user_filepath, dataSize)\n",
    "# Measure the functions\n",
    "print(\">>>Measuring fakerHandler_read_csv__\")\n",
    "utils.measure_function(fakerHandler_read_csv)\n",
    "print(\">>>Measuring fakerHandler_read_csv_generator\")\n",
    "utils.measure_function(fakerHandler_read_csv_generator)\n"
   ]
  },
  {
   "cell_type": "markdown",
   "metadata": {},
   "source": [
    "---\n",
    "## Use big data and \"Do something with it\"\n",
    "### Tuesday: 28-02-2024\n",
    "\n",
    "* Count names normally\n",
    "\n",
    "* Count names using generator\n",
    "\n",
    "* Count names using generators and threading\n",
    "\n",
    "---"
   ]
  },
  {
   "cell_type": "code",
   "execution_count": 19,
   "metadata": {},
   "outputs": [
    {
     "name": "stdout",
     "output_type": "stream",
     "text": [
      ">>>Measuring countNames\n",
      "Number of John:  63698\n",
      "Memory used: 1.91796875 MB\n",
      "Time taken: 0.359375 seconds\n",
      "\n",
      ">>>Measuring countNamesGenerator\n",
      "Number of John:  63698\n",
      "Memory used: -1.0 MB\n",
      "Time taken: 0.390625 seconds\n",
      "\n"
     ]
    }
   ],
   "source": [
    "def countNames(name):\n",
    "    fH = FakerHandler()\n",
    "    lines = fH.getNameData(fake_user_filepath, name)\n",
    "    names = [line[0] for line in lines]\n",
    "    print(\"Number of \"+name+\": \", len(names))\n",
    "\n",
    "def countNamesGenerator(name):\n",
    "    fH = FakerHandler()\n",
    "    count = 0\n",
    "    lines = fH.getNameDataGenerator(fake_user_filepath, name)\n",
    "    for l in lines:\n",
    "        count += 1\n",
    "    print(\"Number of \"+name+\": \", count)\n",
    "\n",
    "print(\">>>Measuring countNames\")\n",
    "utils.measure_function(countNames, \"John\")\n",
    "print(\">>>Measuring countNamesGenerator\")\n",
    "utils.measure_function(countNamesGenerator, \"John\")"
   ]
  }
 ],
 "metadata": {
  "kernelspec": {
   "display_name": ".venv",
   "language": "python",
   "name": "python3"
  },
  "language_info": {
   "codemirror_mode": {
    "name": "ipython",
    "version": 3
   },
   "file_extension": ".py",
   "mimetype": "text/x-python",
   "name": "python",
   "nbconvert_exporter": "python",
   "pygments_lexer": "ipython3",
   "version": "3.12.2"
  }
 },
 "nbformat": 4,
 "nbformat_minor": 2
}
