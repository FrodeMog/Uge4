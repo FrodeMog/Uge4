{
 "cells": [
  {
   "cell_type": "markdown",
   "metadata": {},
   "source": [
    "---\n",
    "## Create big data with faker and use generator\n",
    "### Tuesday: 27-02-2024\n",
    "\n",
    "* Read the data normally\n",
    "\n",
    "* Read the data using generator \n",
    "\n",
    "* Compare time and memory usage\n",
    "\n",
    "---"
   ]
  },
  {
   "cell_type": "code",
   "execution_count": null,
   "metadata": {},
   "outputs": [],
   "source": []
  }
 ],
 "metadata": {
  "language_info": {
   "name": "python"
  }
 },
 "nbformat": 4,
 "nbformat_minor": 2
}
